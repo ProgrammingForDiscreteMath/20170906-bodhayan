{
 "cells": [
  {
   "cell_type": "markdown",
   "metadata": {
    "deletable": true,
    "editable": true
   },
   "source": [
    "# Assignment from 6th September 2017\n",
    "* Construct a graph whose vertices are ten subsets of size 2 of the set `{1, 2, 3, 4, 5}`.\n",
    "Two vertices corresponding to subsets `S` and `T` respectively, are connected by an edge if and only if their intersection is empty.\n",
    "Construct and display this graph."
   ]
  },
  {
   "cell_type": "code",
   "execution_count": null,
   "metadata": {
    "collapsed": false,
    "deletable": true,
    "editable": true
   },
   "outputs": [],
   "source": []
  },
  {
   "cell_type": "code",
   "execution_count": null,
   "metadata": {
    "collapsed": false,
    "deletable": true,
    "editable": true
   },
   "outputs": [],
   "source": []
  },
  {
   "cell_type": "markdown",
   "metadata": {
    "deletable": true,
    "editable": true
   },
   "source": [
    "* Construct the directed graph whose vertices are strings with characters `1` and `2`, and the numbers in these strings add up to an integer less than or equal to `10`. There is an edge from string `t` to string `s` if either:\n",
    "  1. `s = t + '1'` (i.e., `s` is obtained from `t` by appending a `1` to its right), or\n",
    "  2. `t = u + '2'`, and there is an edge from `u` to `s`."
   ]
  },
  {
   "cell_type": "markdown",
   "metadata": {
    "deletable": true,
    "editable": true
   },
   "source": [
    "To help you with this assignment, I already defined generators for strings of `1` and `2` which add up to a given integer `n` and a Boolean function to determine when there is an edge between strings `s` and `t`."
   ]
  },
  {
   "cell_type": "code",
   "execution_count": 33,
   "metadata": {
    "collapsed": true,
    "deletable": true,
    "editable": true
   },
   "outputs": [],
   "source": [
    "def words_summing_to(n):\n",
    "    \"\"\"\n",
    "    Generate all the words in letters `1` and `2` which add up to ``n``.\n",
    "    \n",
    "    Arg:\n",
    "    \n",
    "    `n` - non-negative integer.\n",
    "    \"\"\"\n",
    "    if n == 0:\n",
    "        yield str()\n",
    "        raise StopIteration\n",
    "    elif n == 1:\n",
    "        yield '1'\n",
    "        raise StopIteration\n",
    "    else:\n",
    "        for s in words_summing_to(n-1):\n",
    "            yield s + '1'\n",
    "        for s in words_summing_to(n-2):\n",
    "            yield s + '2'\n",
    "            \n",
    "def is_edge(t, s):\n",
    "    \"\"\"\n",
    "    Return if there is an edge from ``t`` to ``s``.\n",
    "    \"\"\"\n",
    "    return s!='' and (s == t + '1' or (s[-1] == '2' and is_edge(s[:-1], t)))"
   ]
  },
  {
   "cell_type": "code",
   "execution_count": null,
   "metadata": {
    "collapsed": false,
    "deletable": true,
    "editable": true
   },
   "outputs": [],
   "source": []
  },
  {
   "cell_type": "code",
   "execution_count": null,
   "metadata": {
    "collapsed": false,
    "deletable": true,
    "editable": true
   },
   "outputs": [],
   "source": []
  },
  {
   "cell_type": "code",
   "execution_count": null,
   "metadata": {
    "collapsed": true,
    "deletable": true,
    "editable": true
   },
   "outputs": [],
   "source": []
  },
  {
   "cell_type": "code",
   "execution_count": null,
   "metadata": {
    "collapsed": true,
    "deletable": true,
    "editable": true
   },
   "outputs": [],
   "source": []
  }
 ],
 "metadata": {
  "kernelspec": {
   "display_name": "SageMath 8.0",
   "language": "",
   "name": "sagemath"
  },
  "language_info": {
   "codemirror_mode": {
    "name": "ipython",
    "version": 2
   },
   "file_extension": ".py",
   "mimetype": "text/x-python",
   "name": "python",
   "nbconvert_exporter": "python",
   "pygments_lexer": "ipython2",
   "version": "2.7.13"
  }
 },
 "nbformat": 4,
 "nbformat_minor": 2
}
